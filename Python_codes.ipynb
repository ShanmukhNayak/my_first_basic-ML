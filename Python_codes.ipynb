{
  "nbformat": 4,
  "nbformat_minor": 0,
  "metadata": {
    "colab": {
      "name": "Python codes",
      "provenance": [],
      "authorship_tag": "ABX9TyPhGGh2RHobCIbEll1nWXBZ",
      "include_colab_link": true
    },
    "kernelspec": {
      "name": "python3",
      "display_name": "Python 3"
    },
    "language_info": {
      "name": "python"
    }
  },
  "cells": [
    {
      "cell_type": "markdown",
      "metadata": {
        "id": "view-in-github",
        "colab_type": "text"
      },
      "source": [
        "<a href=\"https://colab.research.google.com/github/ShanmukhNayak/my_first_basic-ML/blob/main/Python_codes.ipynb\" target=\"_parent\"><img src=\"https://colab.research.google.com/assets/colab-badge.svg\" alt=\"Open In Colab\"/></a>"
      ]
    },
    {
      "cell_type": "markdown",
      "metadata": {
        "id": "ZYOVJ7T_vnjW"
      },
      "source": [
        "#1.Adding two numbers"
      ]
    },
    {
      "cell_type": "code",
      "metadata": {
        "id": "GSk2xrzQv0ZR",
        "colab": {
          "base_uri": "https://localhost:8080/"
        },
        "outputId": "9febf3af-c31f-4097-eced-aeed38507b7f"
      },
      "source": [
        "a=int(input())\n",
        "b=int(input())\n",
        "sum=a+b\n",
        "print(sum)"
      ],
      "execution_count": null,
      "outputs": [
        {
          "output_type": "stream",
          "text": [
            "1\n",
            "2\n",
            "3\n"
          ],
          "name": "stdout"
        }
      ]
    },
    {
      "cell_type": "markdown",
      "metadata": {
        "id": "MyWpGRR-7yNR"
      },
      "source": [
        "#2.Factorial of a number"
      ]
    },
    {
      "cell_type": "code",
      "metadata": {
        "colab": {
          "base_uri": "https://localhost:8080/"
        },
        "id": "0Kb8aNWL7_9Y",
        "outputId": "bdcd541f-ba7c-48f5-dd75-6c2d50842cb4"
      },
      "source": [
        "a=int(input())\n",
        "f=1 \n",
        "for i in range(1,a+1):\n",
        "    f*=i\n",
        "print(f)"
      ],
      "execution_count": null,
      "outputs": [
        {
          "output_type": "stream",
          "text": [
            "5\n",
            "120\n"
          ],
          "name": "stdout"
        }
      ]
    },
    {
      "cell_type": "markdown",
      "metadata": {
        "id": "FIRa_Mp78V6e"
      },
      "source": [
        "#3.Sum of n numbers"
      ]
    },
    {
      "cell_type": "code",
      "metadata": {
        "colab": {
          "base_uri": "https://localhost:8080/"
        },
        "id": "iUKwkS6e8fGk",
        "outputId": "d30d983a-f369-4f07-d037-628303be4876"
      },
      "source": [
        "n=int(input())\n",
        "sum=0 \n",
        "for i in range(n+1):\n",
        "    sum+=i\n",
        "print(sum)"
      ],
      "execution_count": null,
      "outputs": [
        {
          "output_type": "stream",
          "text": [
            "4\n",
            "10\n"
          ],
          "name": "stdout"
        }
      ]
    }
  ]
}